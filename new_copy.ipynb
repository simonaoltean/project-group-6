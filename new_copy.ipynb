{
 "cells": [
  {
   "cell_type": "code",
   "execution_count": 58,
   "id": "15f2ea3f",
   "metadata": {},
   "outputs": [],
   "source": [
    "import math\n",
    "\n",
    "\n",
    "def distance(x1, y1, x2, y2):\n",
    "    return math.hypot(x2 - x1, y2 - y1)\n",
    "\n",
    "def check_solution(travel_list, df, speed=30.):\n",
    "    \"\"\"\n",
    "    Check a bank robber algorithm solution\n",
    "    \n",
    "    input:\n",
    "    ------\n",
    "    travel_list: a list of integers\n",
    "        Your solution to the bank robber problem\n",
    "        Bank IDs are row indeces into the df passed\n",
    "    df: pd.DataFrame\n",
    "        The algorithm input formatted dataframe \n",
    "        (id,x_coordinate,y_coordinate,money,time (hr))\n",
    "    speed: float\n",
    "        The km/h speed of travel\n",
    "    \"\"\"\n",
    "    t_remaining = 24.\n",
    "    score = 0.\n",
    "    assert len(travel_list) == len(set(travel_list)), (\n",
    "        \"Your travel list must have unique IDs!\"\n",
    "    )\n",
    "    prev = travel_list[0]\n",
    "    for e in travel_list:\n",
    "        row = df.iloc[e]\n",
    "        score += row['money']\n",
    "        t_remaining -= row['time (hr)']\n",
    "        dist = distance(\n",
    "            row['x_coordinate'], row['y_coordinate'],\n",
    "            df.iloc[prev]['x_coordinate'],\n",
    "            df.iloc[prev]['y_coordinate'],\n",
    "        )\n",
    "        t_remaining -= dist / speed\n",
    "        prev = e\n",
    "    assert t_remaining >= 0, (\n",
    "        f\"Used more than 24h! Time left: {t_remaining}\"\n",
    "    )\n",
    "    # still gotta get to (0, 0)\n",
    "    dist = distance(row['x_coordinate'],row['y_coordinate'],0,0)\n",
    "    final_t = t_remaining - (dist / speed)\n",
    "    assert final_t >= 0, (\n",
    "        f\"Not enough time to get to helicopter!\\n\"\n",
    "        f\"Time left after last bank: {t_remaining}\\n\"\n",
    "        f\"Distance to (0,0) helipad: {dist}\\n\"\n",
    "    )\n",
    "    print(f\"Time Remaining: {final_t}\")\n",
    "    return score"
   ]
  },
  {
   "cell_type": "code",
   "execution_count": 59,
   "id": "a6972ae5",
   "metadata": {},
   "outputs": [
    {
     "name": "stdout",
     "output_type": "stream",
     "text": [
      "[5166, 279, 6216, 6535, 507, 6254, 8846, 299, 5296, 5295, 4465, 9275, 8231, 7595, 7877, 8703, 8908, 6712, 444, 9049, 5155, 2190, 2521, 4345, 517, 5725, 7583, 3089, 4794, 3297, 9880, 7689, 7649, 7764, 8375, 1733, 2442, 1372, 3026, 6759, 2243, 3516, 5562, 5126, 7087, 790, 613, 4906, 8286, 1997, 2729, 5719, 6987, 7665, 3005, 5563, 8355, 7701, 2741, 6104, 9378, 8849, 2827, 6022, 4287, 2037, 5610, 8525, 3193, 9228, 58, 209, 951, 2656, 70, 9881, 6740, 4789, 8022, 4696, 8966, 2346, 7074, 9653, 2331, 9736, 9401, 3926, 7064, 4605, 8206, 4725, 7258, 8287, 1757, 1914, 6468, 524, 433, 8469, 8690, 8579, 7560, 3466, 4987, 3914, 865, 5135, 2928, 487, 6097, 8562, 8436, 4762, 7544, 3798, 7343, 9241, 4499, 8550, 4757, 9195, 5933, 9583, 6528, 3803, 9546, 3613]\n",
      "\n",
      "6,439,300$ all\n"
     ]
    }
   ],
   "source": [
    "import timeit\n",
    "import pandas as pd\n",
    "import numpy as np\n",
    "import math\n",
    "start_time = timeit.default_timer()\n",
    "\n",
    "heist = pd.read_csv('')\n",
    "df = heist.copy()\n",
    "\n",
    "time = 24\n",
    "time_left = time\n",
    "speed = 30 # km/h\n",
    "banks_robbed = []\n",
    "money = 0\n",
    "\n",
    "def profit_time(money, time):\n",
    "    return money/time\n",
    "\n",
    "def next_bank(x1,y1):\n",
    "    bad_df = df.index.isin(banks_robbed)\n",
    "    excluding_df = df[~bad_df]\n",
    "    excluding_money = excluding_df['money'].values\n",
    "    excluding_time = excluding_df['time (hr)'].values\n",
    "    profit_T = profit_time(excluding_money, excluding_time)\n",
    "    max_id = np.where(profit_T==profit_T.max())\n",
    "    return excluding_df.iloc[int(max_id[0])]\n",
    "\n",
    "def rob(x1,y1):\n",
    "    global money\n",
    "    global banks_robbed\n",
    "    global time_left\n",
    "    new_df = next_bank(x1,y1)\n",
    "    new_x1 = new_df['x_coordinate']\n",
    "    new_y1 = new_df['y_coordinate']\n",
    "    time_to_rob = ((math.hypot(new_x1-x1,new_y1-y1)/speed)+new_df['time (hr)']) \n",
    "    time_left -= time_to_rob\n",
    "    money += int(new_df['money'])\n",
    "    banks_robbed.append(int(new_df['id']))\n",
    "    if time_left>time_to_rob:\n",
    "        return rob(new_x1,new_y1)\n",
    "\n",
    "rob(0,0)\n",
    "banks_to_rob = banks_robbed[::-1]\n",
    "print(banks_to_rob)\n",
    "print(f\"\\n{money:,d}$\", \"all\")\n",
    "\n",
    "elapsed = timeit.default_timer() - start_time"
   ]
  },
  {
   "cell_type": "code",
   "execution_count": 67,
   "id": "32386dfd",
   "metadata": {},
   "outputs": [
    {
     "name": "stdout",
     "output_type": "stream",
     "text": [
      "Time elapsed: 0.08028289999947447 seconds\n"
     ]
    }
   ],
   "source": [
    "print(f\"Time elapsed: {elapsed} seconds\")"
   ]
  },
  {
   "cell_type": "code",
   "execution_count": 61,
   "id": "a9227d0a",
   "metadata": {},
   "outputs": [
    {
     "name": "stdout",
     "output_type": "stream",
     "text": [
      "Time Remaining: 0.11034203940374147\n"
     ]
    },
    {
     "data": {
      "text/plain": [
       "6439300.0"
      ]
     },
     "execution_count": 61,
     "metadata": {},
     "output_type": "execute_result"
    }
   ],
   "source": [
    "check_solution(banks_to_rob,df)"
   ]
  },
  {
   "cell_type": "code",
   "execution_count": null,
   "id": "e4e45af5",
   "metadata": {},
   "outputs": [],
   "source": []
  }
 ],
 "metadata": {
  "kernelspec": {
   "display_name": "Python 3 (ipykernel)",
   "language": "python",
   "name": "python3"
  },
  "language_info": {
   "codemirror_mode": {
    "name": "ipython",
    "version": 3
   },
   "file_extension": ".py",
   "mimetype": "text/x-python",
   "name": "python",
   "nbconvert_exporter": "python",
   "pygments_lexer": "ipython3",
   "version": "3.9.13"
  }
 },
 "nbformat": 4,
 "nbformat_minor": 5
}
